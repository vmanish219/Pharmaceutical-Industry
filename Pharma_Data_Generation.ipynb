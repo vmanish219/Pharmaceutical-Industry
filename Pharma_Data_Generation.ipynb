{
  "nbformat": 4,
  "nbformat_minor": 0,
  "metadata": {
    "colab": {
      "provenance": []
    },
    "kernelspec": {
      "name": "python3",
      "display_name": "Python 3"
    },
    "language_info": {
      "name": "python"
    }
  },
  "cells": [
    {
      "cell_type": "markdown",
      "source": [
        "**R&D Table Data Generation**"
      ],
      "metadata": {
        "id": "ClQ9p2z2ldho"
      }
    },
    {
      "cell_type": "code",
      "source": [
        "import pandas as pd\n",
        "from faker import Faker\n",
        "import random\n",
        "from datetime import datetime, timedelta\n",
        "\n",
        "fake = Faker()\n",
        "\n",
        "data = []\n",
        "\n",
        "for company_id in range(1, 501):\n",
        "    num_projects = random.randint(15, 30)\n",
        "    com_id=uuid.uuid1()\n",
        "\n",
        "    for _ in range(num_projects):\n",
        "        project_id = uuid.uuid1()\n",
        "        spend = fake.random_int(min=500000, max=2500000)\n",
        "        time_to_market = fake.random_int(min=6, max=15)\n",
        "        start_date = fake.date_between_dates(date_start=datetime.strptime('2018-01-01', '%Y-%m-%d'))\n",
        "\n",
        "        if pd.Timestamp(start_date).quarter in [1, 3]:\n",
        "            spend *= 1.4\n",
        "\n",
        "        data.append([project_id, com_id, spend, time_to_market, start_date])\n",
        "\n",
        "\n",
        "columns = ['ProjectID', 'CompanyID', 'Spend', 'TimeToMarket', 'projectStartDate']\n",
        "rd = pd.DataFrame(data, columns=columns)\n",
        "\n",
        "len(pd.unique(rd.ProjectID))\n",
        "rd.to_csv('rd_uuid.csv')\n",
        "rd.head()"
      ],
      "metadata": {
        "id": "8mhkfMBElnLN"
      },
      "execution_count": null,
      "outputs": []
    },
    {
      "cell_type": "markdown",
      "source": [
        "**Company Table Data Generation**"
      ],
      "metadata": {
        "id": "a5PljJtPlq3r"
      }
    },
    {
      "cell_type": "code",
      "source": [
        "rd['projectStartDate']=pd.to_datetime(rd['projectStartDate'])\n",
        "rd['quarter'] = pd.PeriodIndex(rd.projectStartDate, freq='Q')\n",
        "company_df=rd.groupby(['CompanyID','quarter']).sum('Spend').reset_index()[['CompanyID','quarter','Spend']]\n",
        "company_df['Spend']=company_df['Spend']\n",
        "company_df.to_csv('comp_uuid.csv')"
      ],
      "metadata": {
        "id": "SkjbWPW_lxjA"
      },
      "execution_count": null,
      "outputs": []
    },
    {
      "cell_type": "markdown",
      "source": [
        "**Drug Table Data Generation**"
      ],
      "metadata": {
        "id": "4KlEPGpJmEmF"
      }
    },
    {
      "cell_type": "code",
      "source": [
        "from faker import Faker\n",
        "import pandas as pd\n",
        "from datetime import datetime, timedelta\n",
        "from dateutil.relativedelta import relativedelta\n",
        "\n",
        "fake = Faker()\n",
        "\n",
        "drugs_df = pd.DataFrame(columns=['DrugID', 'ProjectID', 'ApprovalStatus', 'Date'])\n",
        "\n",
        "for i in range(1, int(len(project)*0.6)):\n",
        "    drug_id = i\n",
        "    project_id = fake.random_int(min=1, max=len(rd))\n",
        "    approval_status = \"Pending\"\n",
        "\n",
        "    rd_data = rd_df.loc[rd_df['ProjectID'] == project_id]\n",
        "    project_start_date = rd_data['projectStartDate'].values[0]\n",
        "    time_to_market = rd_data['TimeToMarket'].values[0]\n",
        "\n",
        "    min_date = pd.to_datetime(project_start_date,format=\"%Y-%m-%d\") - relativedelta(days=60) + relativedelta(days=time_to_market)\n",
        "    max_date = project_start_date + relativedelta(days=60) + timedelta(days=time_to_market)\n",
        "    date = fake.date_between_dates(min_date, max_date)\n",
        "\n",
        "    drugs_df = drugs_df.append({'DrugID': drug_id, 'ProjectID': project_id, 'ApprovalStatus': approval_status,\n",
        "                                'Date': date}, ignore_index=True)\n",
        "\n",
        "print(drugs_df.head())\n"
      ],
      "metadata": {
        "id": "Ap7a6G6hmJxk"
      },
      "execution_count": null,
      "outputs": []
    },
    {
      "cell_type": "code",
      "source": [
        "drugs_df1 = pd.DataFrame(columns=['DrugID', 'ProjectID', 'ApprovalStatus', 'Date'])\n",
        "for i in p:\n",
        "    a = random.randint(1,10)\n",
        "    if a <= 6:\n",
        "            drug_id = i\n",
        "            approval_status = \"Approved\"\n",
        "            project_id = drugs_df.loc[drugs_df['DrugID'] == drug_id,'ProjectID'].values[0]\n",
        "            date = drugs_df.loc[drugs_df['DrugID'] == drug_id,'Date']\n",
        "            random_date_add = random.randint(6,9)\n",
        "            date = pd.to_datetime(date)\n",
        "            date = date + pd.DateOffset(months = random_date_add)\n",
        "\n",
        "            date = fake.date_between_dates(min_date, max_date)\n",
        "\n",
        "    # Append a row to the \"drugs\" dataframe\n",
        "            drugs_df1 = drugs_df1.append({'DrugID': drug_id, 'ProjectID': project_id, 'ApprovalStatus': approval_status,\n",
        "                                'Date': date}, ignore_index=True)\n",
        "drugs_df1.head()"
      ],
      "metadata": {
        "id": "66hD49-ZCnLu"
      },
      "execution_count": null,
      "outputs": []
    },
    {
      "cell_type": "code",
      "source": [
        "p = drugs_df1['ProjectID']\n",
        "t = drugs_df['ProjectID']\n",
        "drugs_df2 = pd.DataFrame(columns=['DrugID', 'ProjectID', 'ApprovalStatus', 'Date'])\n",
        "for i in t:\n",
        "    if i not in p:\n",
        "            project_id = i\n",
        "            approval_status = \"Rejected\"\n",
        "            drug_id = drugs_df.loc[drugs_df['ProjectID'] == project_id,'DrugID'].values[0]\n",
        "            date = drugs_df.loc[drugs_df['ProjectID'] == project_id,'Date']\n",
        "            random_date_add = random.randint(6,9)\n",
        "            date = pd.to_datetime(date)\n",
        "            date = date + pd.DateOffset(months = random_date_add)\n",
        "\n",
        "            date = fake.date_between_dates(min_date, max_date)\n",
        "\n",
        "    # Append a row to the \"drugs\" dataframe\n",
        "            drugs_df2 = drugs_df2.append({'DrugID': drug_id, 'ProjectID': project_id, 'ApprovalStatus': approval_status,\n",
        "                                'Date': date}, ignore_index=True)\n",
        "drugs_df2.head()"
      ],
      "metadata": {
        "id": "CFNDh8tXCnVY"
      },
      "execution_count": null,
      "outputs": []
    },
    {
      "cell_type": "code",
      "source": [],
      "metadata": {
        "id": "tSeiJV5uCnic"
      },
      "execution_count": null,
      "outputs": []
    },
    {
      "cell_type": "markdown",
      "source": [
        "**Customer Table Data Generation**"
      ],
      "metadata": {
        "id": "m1ydfTGmmWl2"
      }
    },
    {
      "cell_type": "code",
      "source": [
        "import pandas as pd\n",
        "import random\n",
        "from faker import Faker\n",
        "from dateutil.relativedelta import relativedelta\n",
        "\n",
        "random.seed(42)\n",
        "\n",
        "\n",
        "faker = Faker()\n",
        "\n",
        "def random_date(start_date, end_date):\n",
        "    days_diff = (end_date - start_date).days\n",
        "    random_days = random.randint(0, days_diff)\n",
        "    return start_date + relativedelta(days=random_days)\n",
        "\n",
        "def generate_acquisition_cost(quarter):\n",
        "    if quarter in [1, 3]:\n",
        "        return round(random.uniform(50, 200), 2)\n",
        "    else:\n",
        "        return round(random.uniform(100, 300), 2)\n",
        "\n",
        "data = []\n",
        "start_date = pd.to_datetime('2018-01-01')\n",
        "end_date = pd.to_datetime('2023-07-30')\n",
        "\n",
        "for _ in range(1000000):\n",
        "    customer_id = faker.uuid4()\n",
        "    name = faker.name()\n",
        "    quarter = random.choice([1, 2, 3, 4])\n",
        "    date = random_date(start_date, end_date)\n",
        "    quarter=pd.to_datetime(date).quarter\n",
        "    acquisition_cost = generate_acquisition_cost(quarter)\n",
        "\n",
        "    data.append([customer_id, name, acquisition_cost, date])\n",
        "\n",
        "\n",
        "columns = ['CustomerID', 'Name', 'AcquisitionCost', 'Date']\n",
        "df = pd.DataFrame(data, columns=columns)\n",
        "\n",
        "\n",
        "df = df.sort_values(by='Date')\n",
        "\n",
        "df.reset_index(drop=True, inplace=True)\n",
        "\n",
        "df\n"
      ],
      "metadata": {
        "id": "enUVISUDmaAR"
      },
      "execution_count": null,
      "outputs": []
    }
  ]
}